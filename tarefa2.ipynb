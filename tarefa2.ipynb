{
  "nbformat": 4,
  "nbformat_minor": 0,
  "metadata": {
    "colab": {
      "name": "tarefa2",
      "provenance": [],
      "collapsed_sections": []
    },
    "kernelspec": {
      "name": "python3",
      "display_name": "Python 3"
    },
    "language_info": {
      "name": "python"
    }
  },
  "cells": [
    {
      "cell_type": "code",
      "source": [
        "!pip install pandas"
      ],
      "metadata": {
        "id": "ut_NHzS8PsHK"
      },
      "execution_count": null,
      "outputs": []
    },
    {
      "cell_type": "code",
      "metadata": {
        "id": "U19mOeuoWi0m"
      },
      "source": [
        "nome = ''\n",
        "saltos = []\n",
        "posicaoSalto = ['Primeiro Salto:', 'Segundo Salto:', 'Terceiro Salto:', 'Quarto Salto:', 'Quinto Salto:']\n",
        "soma_saltos = 0\n",
        "\n",
        "nome = input('Informe seu nome: ')\n",
        "\n",
        "#obter as distâncias\n",
        "for salto in range(5):\n",
        "  \n",
        "  distancia = input(f'Informe a distância do salto {salto+1}: ')\n",
        "  saltos.append(distancia)\n",
        "  \n",
        "print(f'Atleta: {nome}')\n",
        "\n",
        "#imprimir os saltos\n",
        "for salto in range(5): \n",
        "  print(f'{posicaoSalto[salto]} {saltos[salto]}')\n",
        "  soma_saltos = soma_saltos + int(saltos[salto])\n",
        "\n",
        "print(f'Média: {soma_saltos/len(saltos)}')"
      ],
      "execution_count": null,
      "outputs": []
    },
    {
      "cell_type": "code",
      "metadata": {
        "id": "LNURWK88bHhR"
      },
      "source": [
        "from random import randint\n",
        "\n",
        "valores_dado = [0,0,0,0,0,0]\n",
        "\n",
        "for joga_dado in range(100):\n",
        "  jogada = randint(0,5)\n",
        "  valores_dado[jogada] += 1\n",
        "\n",
        "for mostra in range(6):\n",
        "  print(f'O dado caiu {valores_dado[mostra]} vezes na posição {mostra+1}' )\n"
      ],
      "execution_count": null,
      "outputs": []
    },
    {
      "cell_type": "code",
      "metadata": {
        "id": "V74KJx5Ldfg0"
      },
      "source": [
        "nome = ''\n",
        "\n",
        "nome = input('Informe seu nome: ')\n",
        "\n",
        "for mostra in range(len(nome)):\n",
        "  print(f'{nome[: mostra+1]}')"
      ],
      "execution_count": null,
      "outputs": []
    },
    {
      "cell_type": "code",
      "metadata": {
        "id": "tr5XHo4SfH1W"
      },
      "source": [
        "def soma(a, b, c):\n",
        "  return a+b+c\n",
        "\n",
        "a, b, c = input('Informe 3 valores: ').split()\n",
        "\n",
        "a = int(a)\n",
        "b = int(b)\n",
        "c = int(c)\n",
        "\n",
        "total = soma(a, b, c)\n",
        "print(f'{total}')"
      ],
      "execution_count": null,
      "outputs": []
    },
    {
      "cell_type": "code",
      "metadata": {
        "id": "hs8rKJoUg56g",
        "colab": {
          "base_uri": "https://localhost:8080/"
        },
        "outputId": "9251ccd9-3148-48d7-89c0-4537d27c83ae"
      },
      "source": [
        "import pandas as pd\n",
        "\n",
        "df = pd.read_fwf('/content/drive/MyDrive/T.E./exrc5/usuarios.txt', header=None, names=['Usuario', 'Espaço utilizado'])\n",
        "\n",
        "def ByteToMegaByte(num):\n",
        "    return round((num / (1024 * 1024)), 2)\n",
        "espaco_total =df['Espaço utilizado'].sum()\n",
        "\n",
        "df['% de uso'] = round((df['Espaço utilizado']* 100 /espaco_total),2)\n",
        "\n",
        "df['Espaço utilizado'] = ByteToMegaByte(df['Espaço utilizado'])\n",
        "print(df)\n",
        "\n",
        "txt = ('ACME Inc.            Uso do espaço em disco pelos usuário\\n')\n",
        "txt += ('----------------------------------------------------------\\n')\n",
        "txt += ('Nr. Usuário:      Espaço utilizado:       % de uso:\\n')\n",
        "\n",
        "x = 1\n",
        "for index, line in df.iterrows():\n",
        "    txt += f'{x} {line[\"Usuario\"]} \\t {line[\"Espaço utilizado\"]} MB \\t {line[\"% de uso\"]} %\\n'\n",
        "    x= x+1\n",
        "\n",
        "txt += '\\n'\n",
        "txt += f'Espaco total ocupado: {ByteToMegaByte(espaco_total)} MB\\n'\n",
        "txt += f'Espaco medio ocupado: {ByteToMegaByte(espaco_total/6)} MB\\n'\n",
        "\n",
        "with open('relatorio.txt', 'w') as arquivo:\n",
        "    arquivo.write(txt) "
      ],
      "execution_count": null,
      "outputs": [
        {
          "output_type": "stream",
          "name": "stdout",
          "text": [
            "     Usuario  Espaço utilizado  % de uso\n",
            "0  alexandre            434.99     16.85\n",
            "1   anderson           1187.99     46.02\n",
            "2    antonio            117.74      4.56\n",
            "3     carlos             87.03      3.37\n",
            "4      cesar              0.94      0.04\n",
            "5   rosemary            752.88     29.16\n"
          ]
        }
      ]
    }
  ]
}