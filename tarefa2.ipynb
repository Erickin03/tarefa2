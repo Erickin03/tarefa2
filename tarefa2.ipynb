{
  "nbformat": 4,
  "nbformat_minor": 0,
  "metadata": {
    "colab": {
      "name": "tarefa2",
      "provenance": [],
      "collapsed_sections": [],
      "mount_file_id": "12CCXHMSxv0UJTu-CXO53XCGF7rMCqJd3",
      "authorship_tag": "ABX9TyOKZrNlac7SkFsLGzKLUJax"
    },
    "kernelspec": {
      "name": "python3",
      "display_name": "Python 3"
    },
    "language_info": {
      "name": "python"
    }
  },
  "cells": [
    {
      "cell_type": "code",
      "source": [
        "!pip install pandas"
      ],
      "metadata": {
        "id": "ut_NHzS8PsHK",
        "colab": {
          "base_uri": "https://localhost:8080/"
        },
        "outputId": "02d1b90d-e431-4dee-fafc-c9ed8e74db1a"
      },
      "execution_count": 15,
      "outputs": [
        {
          "output_type": "stream",
          "name": "stdout",
          "text": [
            "Requirement already satisfied: pandas in /usr/local/lib/python3.7/dist-packages (1.1.5)\n",
            "Requirement already satisfied: python-dateutil>=2.7.3 in /usr/local/lib/python3.7/dist-packages (from pandas) (2.8.2)\n",
            "Requirement already satisfied: pytz>=2017.2 in /usr/local/lib/python3.7/dist-packages (from pandas) (2018.9)\n",
            "Requirement already satisfied: numpy>=1.15.4 in /usr/local/lib/python3.7/dist-packages (from pandas) (1.19.5)\n",
            "Requirement already satisfied: six>=1.5 in /usr/local/lib/python3.7/dist-packages (from python-dateutil>=2.7.3->pandas) (1.15.0)\n"
          ]
        }
      ]
    },
    {
      "cell_type": "code",
      "metadata": {
        "id": "U19mOeuoWi0m",
        "colab": {
          "base_uri": "https://localhost:8080/"
        },
        "outputId": "07125c44-2fbf-43e5-c87a-435fdef57b97"
      },
      "source": [
        "nome = ''\n",
        "saltos = []\n",
        "posicaoSalto = ['Primeiro Salto:', 'Segundo Salto:', 'Terceiro Salto:', 'Quarto Salto:', 'Quinto Salto:']\n",
        "soma_saltos = 0\n",
        "\n",
        "nome = input('Informe seu nome: ')\n",
        "\n",
        "#obter as distâncias\n",
        "for salto in range(5):\n",
        "  \n",
        "  distancia = input(f'Informe a distância do salto {salto+1}: ')\n",
        "  saltos.append(distancia)\n",
        "  \n",
        "print(f'Atleta: {nome}')\n",
        "\n",
        "#imprimir os saltos\n",
        "for salto in range(5): \n",
        "  print(f'{posicaoSalto[salto]} {saltos[salto]}')\n",
        "  soma_saltos = soma_saltos + int(saltos[salto])\n",
        "\n",
        "print(f'Média: {soma_saltos/len(saltos)}')"
      ],
      "execution_count": 16,
      "outputs": [
        {
          "output_type": "stream",
          "name": "stdout",
          "text": [
            "Informe seu nome: Erick\n",
            "Informe a distância do salto 1: 23\n",
            "Informe a distância do salto 2: 23\n",
            "Informe a distância do salto 3: 23\n",
            "Informe a distância do salto 4: 23\n",
            "Informe a distância do salto 5: 23\n",
            "Atleta: Erick\n",
            "Primeiro Salto: 23\n",
            "Segundo Salto: 23\n",
            "Terceiro Salto: 23\n",
            "Quarto Salto: 23\n",
            "Quinto Salto: 23\n",
            "Média: 23.0\n"
          ]
        }
      ]
    },
    {
      "cell_type": "code",
      "metadata": {
        "id": "LNURWK88bHhR",
        "colab": {
          "base_uri": "https://localhost:8080/"
        },
        "outputId": "e7782d9f-6699-4837-b746-f215ef7e0da9"
      },
      "source": [
        "from random import randint\n",
        "\n",
        "valores_dado = [0,0,0,0,0,0]\n",
        "\n",
        "for joga_dado in range(100):\n",
        "  jogada = randint(0,5)\n",
        "  valores_dado[jogada] += 1\n",
        "\n",
        "for mostra in range(6):\n",
        "  print(f'O dado caiu {valores_dado[mostra]} vezes na posição {mostra+1}' )\n"
      ],
      "execution_count": 17,
      "outputs": [
        {
          "output_type": "stream",
          "name": "stdout",
          "text": [
            "O dado caiu 17 vezes na posição 1\n",
            "O dado caiu 12 vezes na posição 2\n",
            "O dado caiu 18 vezes na posição 3\n",
            "O dado caiu 19 vezes na posição 4\n",
            "O dado caiu 13 vezes na posição 5\n",
            "O dado caiu 21 vezes na posição 6\n"
          ]
        }
      ]
    },
    {
      "cell_type": "code",
      "metadata": {
        "id": "V74KJx5Ldfg0",
        "colab": {
          "base_uri": "https://localhost:8080/"
        },
        "outputId": "491d461a-3da9-4458-bbf3-0f4b7e21b607"
      },
      "source": [
        "nome = ''\n",
        "\n",
        "nome = input('Informe seu nome: ')\n",
        "\n",
        "for mostra in range(len(nome)):\n",
        "  print(f'{nome[: mostra+1]}')"
      ],
      "execution_count": 18,
      "outputs": [
        {
          "output_type": "stream",
          "name": "stdout",
          "text": [
            "Informe seu nome: Erick\n",
            "E\n",
            "Er\n",
            "Eri\n",
            "Eric\n",
            "Erick\n"
          ]
        }
      ]
    },
    {
      "cell_type": "code",
      "metadata": {
        "id": "tr5XHo4SfH1W",
        "colab": {
          "base_uri": "https://localhost:8080/"
        },
        "outputId": "18d3f6d2-3b7c-42e3-864e-922f44bf620b"
      },
      "source": [
        "def soma(a, b, c):\n",
        "  return a+b+c\n",
        "\n",
        "a, b, c = input('Informe 3 valores: ').split()\n",
        "\n",
        "a = int(a)\n",
        "b = int(b)\n",
        "c = int(c)\n",
        "\n",
        "total = soma(a, b, c)\n",
        "print(f'{total}')"
      ],
      "execution_count": 19,
      "outputs": [
        {
          "output_type": "stream",
          "name": "stdout",
          "text": [
            "Informe 3 valores: 12 52 104\n",
            "168\n"
          ]
        }
      ]
    },
    {
      "cell_type": "code",
      "metadata": {
        "id": "hs8rKJoUg56g",
        "colab": {
          "base_uri": "https://localhost:8080/"
        },
        "outputId": "56a780f2-42d4-43cd-b047-92ab8e37c2fa"
      },
      "source": [
        "import pandas as pd\n",
        "\n",
        "df = pd.read_fwf('/content/drive/MyDrive/T.E./exrc5/usuarios.txt', header=None, names=['Usuario', 'Espaço utilizado'])\n",
        "\n",
        "def ByteToMegaByte(num):\n",
        "    return round((num / (1024 * 1024)), 2)\n",
        "espaco_total =df['Espaço utilizado'].sum()\n",
        "\n",
        "df['% de uso'] = round((df['Espaço utilizado']* 100 /espaco_total),2)\n",
        "\n",
        "df['Espaço utilizado'] = ByteToMegaByte(df['Espaço utilizado'])\n",
        "print(df)\n",
        "\n",
        "txt = ('ACME Inc.            Uso do espaço em disco pelos usuário\\n')\n",
        "txt += ('----------------------------------------------------------\\n')\n",
        "txt += ('Nr. Usuário:      Espaço utilizado:       % de uso:\\n')\n",
        "\n",
        "x = 1\n",
        "for index, line in df.iterrows():\n",
        "    txt += f'{x} {line[\"Usuario\"]} \\t {line[\"Espaço utilizado\"]} MB \\t {line[\"% de uso\"]} %\\n'\n",
        "    x= x+1\n",
        "\n",
        "txt += '\\n'\n",
        "txt += f'Espaco total ocupado: {ByteToMegaByte(espaco_total)} MB\\n'\n",
        "txt += f'Espaco medio ocupado: {ByteToMegaByte(espaco_total/6)} MB\\n'\n",
        "\n",
        "with open('relatorio.txt', 'w') as arquivo:\n",
        "    arquivo.write(txt) "
      ],
      "execution_count": 20,
      "outputs": [
        {
          "output_type": "stream",
          "name": "stdout",
          "text": [
            "     Usuario  Espaço utilizado  % de uso\n",
            "0  alexandre            434.99     16.85\n",
            "1   anderson           1187.99     46.02\n",
            "2    antonio            117.74      4.56\n",
            "3     carlos             87.03      3.37\n",
            "4      cesar              0.94      0.04\n",
            "5   rosemary            752.88     29.16\n"
          ]
        }
      ]
    },
    {
      "cell_type": "code",
      "source": [
        "import pandas as pd\n",
        "\n",
        "rm_df = pd.read_json(\"https://raw.githubusercontent.com/jeffersonchaves/rick-and-morty-dados/main/character.json\")\n",
        "display(rm_df)\n",
        "linha = rm_df.shape\n",
        "\n",
        "print(f'Esse arquivo possui {linha[0]} personagens.')"
      ],
      "metadata": {
        "colab": {
          "base_uri": "https://localhost:8080/",
          "height": 1000
        },
        "id": "6EzqMXWc3b37",
        "outputId": "d98519f0-929b-490c-c070-803114743654"
      },
      "execution_count": 21,
      "outputs": [
        {
          "output_type": "display_data",
          "data": {
            "text/html": [
              "\n",
              "  <div id=\"df-bba1f46e-5ca0-4d57-bb3c-48f195accbc8\">\n",
              "    <div class=\"colab-df-container\">\n",
              "      <div>\n",
              "<style scoped>\n",
              "    .dataframe tbody tr th:only-of-type {\n",
              "        vertical-align: middle;\n",
              "    }\n",
              "\n",
              "    .dataframe tbody tr th {\n",
              "        vertical-align: top;\n",
              "    }\n",
              "\n",
              "    .dataframe thead th {\n",
              "        text-align: right;\n",
              "    }\n",
              "</style>\n",
              "<table border=\"1\" class=\"dataframe\">\n",
              "  <thead>\n",
              "    <tr style=\"text-align: right;\">\n",
              "      <th></th>\n",
              "      <th>id</th>\n",
              "      <th>name</th>\n",
              "      <th>status</th>\n",
              "      <th>species</th>\n",
              "      <th>type</th>\n",
              "      <th>gender</th>\n",
              "      <th>origin</th>\n",
              "      <th>location</th>\n",
              "      <th>image</th>\n",
              "      <th>episode</th>\n",
              "      <th>url</th>\n",
              "      <th>created</th>\n",
              "    </tr>\n",
              "  </thead>\n",
              "  <tbody>\n",
              "    <tr>\n",
              "      <th>0</th>\n",
              "      <td>1</td>\n",
              "      <td>Rick Sanchez</td>\n",
              "      <td>Alive</td>\n",
              "      <td>Human</td>\n",
              "      <td></td>\n",
              "      <td>Male</td>\n",
              "      <td>{'name': 'Earth (C-137)', 'url': 'https://rick...</td>\n",
              "      <td>{'name': 'Earth (Replacement Dimension)', 'url...</td>\n",
              "      <td>https://rickandmortyapi.com/api/character/avat...</td>\n",
              "      <td>[https://rickandmortyapi.com/api/episode/1, ht...</td>\n",
              "      <td>https://rickandmortyapi.com/api/character/1</td>\n",
              "      <td>2017-11-04T18:48:46.250Z</td>\n",
              "    </tr>\n",
              "    <tr>\n",
              "      <th>1</th>\n",
              "      <td>2</td>\n",
              "      <td>Morty Smith</td>\n",
              "      <td>Alive</td>\n",
              "      <td>Human</td>\n",
              "      <td></td>\n",
              "      <td>Male</td>\n",
              "      <td>{'name': 'Earth (C-137)', 'url': 'https://rick...</td>\n",
              "      <td>{'name': 'Earth (Replacement Dimension)', 'url...</td>\n",
              "      <td>https://rickandmortyapi.com/api/character/avat...</td>\n",
              "      <td>[https://rickandmortyapi.com/api/episode/1, ht...</td>\n",
              "      <td>https://rickandmortyapi.com/api/character/2</td>\n",
              "      <td>2017-11-04T18:50:21.651Z</td>\n",
              "    </tr>\n",
              "    <tr>\n",
              "      <th>2</th>\n",
              "      <td>3</td>\n",
              "      <td>Summer Smith</td>\n",
              "      <td>Alive</td>\n",
              "      <td>Human</td>\n",
              "      <td></td>\n",
              "      <td>Female</td>\n",
              "      <td>{'name': 'Earth (Replacement Dimension)', 'url...</td>\n",
              "      <td>{'name': 'Earth (Replacement Dimension)', 'url...</td>\n",
              "      <td>https://rickandmortyapi.com/api/character/avat...</td>\n",
              "      <td>[https://rickandmortyapi.com/api/episode/6, ht...</td>\n",
              "      <td>https://rickandmortyapi.com/api/character/3</td>\n",
              "      <td>2017-11-04T19:09:56.428Z</td>\n",
              "    </tr>\n",
              "    <tr>\n",
              "      <th>3</th>\n",
              "      <td>4</td>\n",
              "      <td>Beth Smith</td>\n",
              "      <td>Alive</td>\n",
              "      <td>Human</td>\n",
              "      <td></td>\n",
              "      <td>Female</td>\n",
              "      <td>{'name': 'Earth (Replacement Dimension)', 'url...</td>\n",
              "      <td>{'name': 'Earth (Replacement Dimension)', 'url...</td>\n",
              "      <td>https://rickandmortyapi.com/api/character/avat...</td>\n",
              "      <td>[https://rickandmortyapi.com/api/episode/6, ht...</td>\n",
              "      <td>https://rickandmortyapi.com/api/character/4</td>\n",
              "      <td>2017-11-04T19:22:43.665Z</td>\n",
              "    </tr>\n",
              "    <tr>\n",
              "      <th>4</th>\n",
              "      <td>5</td>\n",
              "      <td>Jerry Smith</td>\n",
              "      <td>Alive</td>\n",
              "      <td>Human</td>\n",
              "      <td></td>\n",
              "      <td>Male</td>\n",
              "      <td>{'name': 'Earth (Replacement Dimension)', 'url...</td>\n",
              "      <td>{'name': 'Earth (Replacement Dimension)', 'url...</td>\n",
              "      <td>https://rickandmortyapi.com/api/character/avat...</td>\n",
              "      <td>[https://rickandmortyapi.com/api/episode/6, ht...</td>\n",
              "      <td>https://rickandmortyapi.com/api/character/5</td>\n",
              "      <td>2017-11-04T19:26:56.301Z</td>\n",
              "    </tr>\n",
              "    <tr>\n",
              "      <th>...</th>\n",
              "      <td>...</td>\n",
              "      <td>...</td>\n",
              "      <td>...</td>\n",
              "      <td>...</td>\n",
              "      <td>...</td>\n",
              "      <td>...</td>\n",
              "      <td>...</td>\n",
              "      <td>...</td>\n",
              "      <td>...</td>\n",
              "      <td>...</td>\n",
              "      <td>...</td>\n",
              "      <td>...</td>\n",
              "    </tr>\n",
              "    <tr>\n",
              "      <th>95</th>\n",
              "      <td>96</td>\n",
              "      <td>Tuberculosis</td>\n",
              "      <td>Dead</td>\n",
              "      <td>Disease</td>\n",
              "      <td></td>\n",
              "      <td>unknown</td>\n",
              "      <td>{'name': 'Anatomy Park', 'url': 'https://ricka...</td>\n",
              "      <td>{'name': 'Anatomy Park', 'url': 'https://ricka...</td>\n",
              "      <td>https://rickandmortyapi.com/api/character/avat...</td>\n",
              "      <td>[https://rickandmortyapi.com/api/episode/3]</td>\n",
              "      <td>https://rickandmortyapi.com/api/character/96</td>\n",
              "      <td>2017-12-01T11:59:04.796Z</td>\n",
              "    </tr>\n",
              "    <tr>\n",
              "      <th>96</th>\n",
              "      <td>97</td>\n",
              "      <td>Gonorrhea</td>\n",
              "      <td>Dead</td>\n",
              "      <td>Disease</td>\n",
              "      <td></td>\n",
              "      <td>unknown</td>\n",
              "      <td>{'name': 'Anatomy Park', 'url': 'https://ricka...</td>\n",
              "      <td>{'name': 'Anatomy Park', 'url': 'https://ricka...</td>\n",
              "      <td>https://rickandmortyapi.com/api/character/avat...</td>\n",
              "      <td>[https://rickandmortyapi.com/api/episode/3]</td>\n",
              "      <td>https://rickandmortyapi.com/api/character/97</td>\n",
              "      <td>2017-12-01T12:00:27.028Z</td>\n",
              "    </tr>\n",
              "    <tr>\n",
              "      <th>97</th>\n",
              "      <td>98</td>\n",
              "      <td>Hepatitis A</td>\n",
              "      <td>Dead</td>\n",
              "      <td>Disease</td>\n",
              "      <td></td>\n",
              "      <td>unknown</td>\n",
              "      <td>{'name': 'Anatomy Park', 'url': 'https://ricka...</td>\n",
              "      <td>{'name': 'Anatomy Park', 'url': 'https://ricka...</td>\n",
              "      <td>https://rickandmortyapi.com/api/character/avat...</td>\n",
              "      <td>[https://rickandmortyapi.com/api/episode/3]</td>\n",
              "      <td>https://rickandmortyapi.com/api/character/98</td>\n",
              "      <td>2017-12-01T12:01:43.742Z</td>\n",
              "    </tr>\n",
              "    <tr>\n",
              "      <th>98</th>\n",
              "      <td>99</td>\n",
              "      <td>Hepatitis C</td>\n",
              "      <td>Dead</td>\n",
              "      <td>Disease</td>\n",
              "      <td></td>\n",
              "      <td>unknown</td>\n",
              "      <td>{'name': 'Anatomy Park', 'url': 'https://ricka...</td>\n",
              "      <td>{'name': 'Anatomy Park', 'url': 'https://ricka...</td>\n",
              "      <td>https://rickandmortyapi.com/api/character/avat...</td>\n",
              "      <td>[https://rickandmortyapi.com/api/episode/3]</td>\n",
              "      <td>https://rickandmortyapi.com/api/character/99</td>\n",
              "      <td>2017-12-01T12:02:00.935Z</td>\n",
              "    </tr>\n",
              "    <tr>\n",
              "      <th>99</th>\n",
              "      <td>100</td>\n",
              "      <td>Bubonic Plague</td>\n",
              "      <td>Dead</td>\n",
              "      <td>Disease</td>\n",
              "      <td></td>\n",
              "      <td>unknown</td>\n",
              "      <td>{'name': 'Anatomy Park', 'url': 'https://ricka...</td>\n",
              "      <td>{'name': 'Anatomy Park', 'url': 'https://ricka...</td>\n",
              "      <td>https://rickandmortyapi.com/api/character/avat...</td>\n",
              "      <td>[https://rickandmortyapi.com/api/episode/3]</td>\n",
              "      <td>https://rickandmortyapi.com/api/character/100</td>\n",
              "      <td>2017-12-01T12:02:21.611Z</td>\n",
              "    </tr>\n",
              "  </tbody>\n",
              "</table>\n",
              "<p>100 rows × 12 columns</p>\n",
              "</div>\n",
              "      <button class=\"colab-df-convert\" onclick=\"convertToInteractive('df-bba1f46e-5ca0-4d57-bb3c-48f195accbc8')\"\n",
              "              title=\"Convert this dataframe to an interactive table.\"\n",
              "              style=\"display:none;\">\n",
              "        \n",
              "  <svg xmlns=\"http://www.w3.org/2000/svg\" height=\"24px\"viewBox=\"0 0 24 24\"\n",
              "       width=\"24px\">\n",
              "    <path d=\"M0 0h24v24H0V0z\" fill=\"none\"/>\n",
              "    <path d=\"M18.56 5.44l.94 2.06.94-2.06 2.06-.94-2.06-.94-.94-2.06-.94 2.06-2.06.94zm-11 1L8.5 8.5l.94-2.06 2.06-.94-2.06-.94L8.5 2.5l-.94 2.06-2.06.94zm10 10l.94 2.06.94-2.06 2.06-.94-2.06-.94-.94-2.06-.94 2.06-2.06.94z\"/><path d=\"M17.41 7.96l-1.37-1.37c-.4-.4-.92-.59-1.43-.59-.52 0-1.04.2-1.43.59L10.3 9.45l-7.72 7.72c-.78.78-.78 2.05 0 2.83L4 21.41c.39.39.9.59 1.41.59.51 0 1.02-.2 1.41-.59l7.78-7.78 2.81-2.81c.8-.78.8-2.07 0-2.86zM5.41 20L4 18.59l7.72-7.72 1.47 1.35L5.41 20z\"/>\n",
              "  </svg>\n",
              "      </button>\n",
              "      \n",
              "  <style>\n",
              "    .colab-df-container {\n",
              "      display:flex;\n",
              "      flex-wrap:wrap;\n",
              "      gap: 12px;\n",
              "    }\n",
              "\n",
              "    .colab-df-convert {\n",
              "      background-color: #E8F0FE;\n",
              "      border: none;\n",
              "      border-radius: 50%;\n",
              "      cursor: pointer;\n",
              "      display: none;\n",
              "      fill: #1967D2;\n",
              "      height: 32px;\n",
              "      padding: 0 0 0 0;\n",
              "      width: 32px;\n",
              "    }\n",
              "\n",
              "    .colab-df-convert:hover {\n",
              "      background-color: #E2EBFA;\n",
              "      box-shadow: 0px 1px 2px rgba(60, 64, 67, 0.3), 0px 1px 3px 1px rgba(60, 64, 67, 0.15);\n",
              "      fill: #174EA6;\n",
              "    }\n",
              "\n",
              "    [theme=dark] .colab-df-convert {\n",
              "      background-color: #3B4455;\n",
              "      fill: #D2E3FC;\n",
              "    }\n",
              "\n",
              "    [theme=dark] .colab-df-convert:hover {\n",
              "      background-color: #434B5C;\n",
              "      box-shadow: 0px 1px 3px 1px rgba(0, 0, 0, 0.15);\n",
              "      filter: drop-shadow(0px 1px 2px rgba(0, 0, 0, 0.3));\n",
              "      fill: #FFFFFF;\n",
              "    }\n",
              "  </style>\n",
              "\n",
              "      <script>\n",
              "        const buttonEl =\n",
              "          document.querySelector('#df-bba1f46e-5ca0-4d57-bb3c-48f195accbc8 button.colab-df-convert');\n",
              "        buttonEl.style.display =\n",
              "          google.colab.kernel.accessAllowed ? 'block' : 'none';\n",
              "\n",
              "        async function convertToInteractive(key) {\n",
              "          const element = document.querySelector('#df-bba1f46e-5ca0-4d57-bb3c-48f195accbc8');\n",
              "          const dataTable =\n",
              "            await google.colab.kernel.invokeFunction('convertToInteractive',\n",
              "                                                     [key], {});\n",
              "          if (!dataTable) return;\n",
              "\n",
              "          const docLinkHtml = 'Like what you see? Visit the ' +\n",
              "            '<a target=\"_blank\" href=https://colab.research.google.com/notebooks/data_table.ipynb>data table notebook</a>'\n",
              "            + ' to learn more about interactive tables.';\n",
              "          element.innerHTML = '';\n",
              "          dataTable['output_type'] = 'display_data';\n",
              "          await google.colab.output.renderOutput(dataTable, element);\n",
              "          const docLink = document.createElement('div');\n",
              "          docLink.innerHTML = docLinkHtml;\n",
              "          element.appendChild(docLink);\n",
              "        }\n",
              "      </script>\n",
              "    </div>\n",
              "  </div>\n",
              "  "
            ],
            "text/plain": [
              "     id  ...                   created\n",
              "0     1  ...  2017-11-04T18:48:46.250Z\n",
              "1     2  ...  2017-11-04T18:50:21.651Z\n",
              "2     3  ...  2017-11-04T19:09:56.428Z\n",
              "3     4  ...  2017-11-04T19:22:43.665Z\n",
              "4     5  ...  2017-11-04T19:26:56.301Z\n",
              "..  ...  ...                       ...\n",
              "95   96  ...  2017-12-01T11:59:04.796Z\n",
              "96   97  ...  2017-12-01T12:00:27.028Z\n",
              "97   98  ...  2017-12-01T12:01:43.742Z\n",
              "98   99  ...  2017-12-01T12:02:00.935Z\n",
              "99  100  ...  2017-12-01T12:02:21.611Z\n",
              "\n",
              "[100 rows x 12 columns]"
            ]
          },
          "metadata": {}
        },
        {
          "output_type": "stream",
          "name": "stdout",
          "text": [
            "Esse arquivo possui 100 personagens.\n"
          ]
        }
      ]
    },
    {
      "cell_type": "code",
      "source": [
        "condic_human = rm_df['species'] == 'Human'\n",
        "human_df = rm_df.loc[condic_human]\n",
        "numero_human, coluna = human_df.shape\n",
        "\n",
        "print(f'Esse arquivo possui {numero_human} Humanos.')"
      ],
      "metadata": {
        "colab": {
          "base_uri": "https://localhost:8080/"
        },
        "id": "IYUqcXuQ6sL5",
        "outputId": "5754f623-e5d6-4e9f-901d-19e452560f8b"
      },
      "execution_count": 22,
      "outputs": [
        {
          "output_type": "stream",
          "name": "stdout",
          "text": [
            "Esse arquivo possui 48 Humanos.\n"
          ]
        }
      ]
    },
    {
      "cell_type": "code",
      "source": [
        "condic_alien = rm_df['species'] == 'Alien'\n",
        "alien_df = rm_df.loc[condic_alien]\n",
        "numero_aliens, coluna = alien_df.shape\n",
        "\n",
        "print(f'Esse arquivo possui {numero_aliens} Aliens.')"
      ],
      "metadata": {
        "colab": {
          "base_uri": "https://localhost:8080/"
        },
        "id": "cTDnj-4E6FQs",
        "outputId": "8f0172b7-1b98-40b3-86f1-b3318618d74f"
      },
      "execution_count": 23,
      "outputs": [
        {
          "output_type": "stream",
          "name": "stdout",
          "text": [
            "Esse arquivo possui 27 Aliens.\n"
          ]
        }
      ]
    },
    {
      "cell_type": "code",
      "source": [
        "x = alien_df['type'].value_counts()\n",
        "qtd_tipos_alien = x.shape\n",
        "\n",
        "print(f'Esse arquivo possui {qtd_tipos_alien[0]} tipos de alienígenas diferentes')"
      ],
      "metadata": {
        "colab": {
          "base_uri": "https://localhost:8080/"
        },
        "id": "MHDZ_XFg7ShI",
        "outputId": "0d05e9ca-7fb4-4976-831c-d1cd979381c2"
      },
      "execution_count": 24,
      "outputs": [
        {
          "output_type": "stream",
          "name": "stdout",
          "text": [
            "Esse arquivo possui 16 tipos de alienígenas diferentes\n"
          ]
        }
      ]
    },
    {
      "cell_type": "code",
      "source": [
        "sexo_alien = alien_df[[\"gender\"]].groupby(\"gender\").size()\n",
        "qtd_alien_homen = sexo_alien[\"Male\"]\n",
        "qtd_alien_mulher = sexo_alien[\"Female\"]\n",
        "\n",
        "print(f\"Esse arquivo possui {qtd_alien_mulher} alienígenas MULHERES e {qtd_alien_homen} alienígenas HOMENS!!\")"
      ],
      "metadata": {
        "colab": {
          "base_uri": "https://localhost:8080/"
        },
        "id": "8-8r-5AE8NX7",
        "outputId": "4391ca7f-8cdc-49b8-f8c3-0877a15e1e9f"
      },
      "execution_count": 25,
      "outputs": [
        {
          "output_type": "stream",
          "name": "stdout",
          "text": [
            "Esse arquivo possui 4 alienígenas MULHERES e 15 alienígenas HOMENS!!\n"
          ]
        }
      ]
    },
    {
      "cell_type": "code",
      "source": [
        "episodios_df = pd.read_json(\"https://raw.githubusercontent.com/jeffersonchaves/rick-and-morty-dados/main/episode.json\")\n",
        "\n",
        "condic_crocubot = rm_df['name'] == 'Crocubot'\n",
        "\n",
        "crocubot = rm_df.loc[condic_crocubot]\n",
        "\n",
        "episodio = crocubot['episode']\n",
        "episodio = episodio[80][0]\n",
        "episodio = episodio.split('/')\n",
        "episodio = int(episodio[-1])\n",
        "\n",
        "episod = episodios_df.loc[episodios_df[\"id\"] == episodio]\n",
        "\n",
        "nome_episodio = episod[\"name\"].values[0]\n",
        "print(f\"O episódio é: '{nome_episodio}' \")"
      ],
      "metadata": {
        "colab": {
          "base_uri": "https://localhost:8080/"
        },
        "id": "vXkrSrwQ_GQH",
        "outputId": "fe19a164-32d3-4a6f-9a33-7d2de3821c91"
      },
      "execution_count": 26,
      "outputs": [
        {
          "output_type": "stream",
          "name": "stdout",
          "text": [
            "O episódio é: 'Vindicators 3: The Return of Worldender' \n"
          ]
        }
      ]
    }
  ]
}