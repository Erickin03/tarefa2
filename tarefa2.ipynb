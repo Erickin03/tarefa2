{
  "nbformat": 4,
  "nbformat_minor": 0,
  "metadata": {
    "colab": {
      "name": "tarefa2",
      "provenance": [],
      "collapsed_sections": [],
      "mount_file_id": "12CCXHMSxv0UJTu-CXO53XCGF7rMCqJd3",
      "authorship_tag": "ABX9TyOKZrNlac7SkFsLGzKLUJax"
    },
    "kernelspec": {
      "name": "python3",
      "display_name": "Python 3"
    },
    "language_info": {
      "name": "python"
    }
  },
  "cells": [
    {
      "cell_type": "code",
      "source": [
        "!pip install pandas"
      ],
      "metadata": {
        "id": "ut_NHzS8PsHK"
      },
      "execution_count": null,
      "outputs": []
    },
    {
      "cell_type": "code",
      "metadata": {
        "id": "U19mOeuoWi0m"
      },
      "source": [
        "nome = ''\n",
        "saltos = []\n",
        "posicaoSalto = ['Primeiro Salto:', 'Segundo Salto:', 'Terceiro Salto:', 'Quarto Salto:', 'Quinto Salto:']\n",
        "soma_saltos = 0\n",
        "\n",
        "nome = input('Informe seu nome: ')\n",
        "\n",
        "#obter as distâncias\n",
        "for salto in range(5):\n",
        "  \n",
        "  distancia = input(f'Informe a distância do salto {salto+1}: ')\n",
        "  saltos.append(distancia)\n",
        "  \n",
        "print(f'Atleta: {nome}')\n",
        "\n",
        "#imprimir os saltos\n",
        "for salto in range(5): \n",
        "  print(f'{posicaoSalto[salto]} {saltos[salto]}')\n",
        "  soma_saltos = soma_saltos + int(saltos[salto])\n",
        "\n",
        "print(f'Média: {soma_saltos/len(saltos)}')"
      ],
      "execution_count": null,
      "outputs": []
    },
    {
      "cell_type": "code",
      "metadata": {
        "id": "LNURWK88bHhR"
      },
      "source": [
        "from random import randint\n",
        "\n",
        "valores_dado = [0,0,0,0,0,0]\n",
        "\n",
        "for joga_dado in range(100):\n",
        "  jogada = randint(0,5)\n",
        "  valores_dado[jogada] += 1\n",
        "\n",
        "for mostra in range(6):\n",
        "  print(f'O dado caiu {valores_dado[mostra]} vezes na posição {mostra+1}' )\n"
      ],
      "execution_count": null,
      "outputs": []
    },
    {
      "cell_type": "code",
      "metadata": {
        "id": "V74KJx5Ldfg0"
      },
      "source": [
        "nome = ''\n",
        "\n",
        "nome = input('Informe seu nome: ')\n",
        "\n",
        "for mostra in range(len(nome)):\n",
        "  print(f'{nome[: mostra+1]}')"
      ],
      "execution_count": null,
      "outputs": []
    },
    {
      "cell_type": "code",
      "metadata": {
        "id": "tr5XHo4SfH1W"
      },
      "source": [
        "def soma(a, b, c):\n",
        "  return a+b+c\n",
        "\n",
        "a, b, c = input('Informe 3 valores: ').split()\n",
        "\n",
        "a = int(a)\n",
        "b = int(b)\n",
        "c = int(c)\n",
        "\n",
        "total = soma(a, b, c)\n",
        "print(f'{total}')"
      ],
      "execution_count": null,
      "outputs": []
    },
    {
      "cell_type": "code",
      "metadata": {
        "id": "hs8rKJoUg56g",
        "colab": {
          "base_uri": "https://localhost:8080/"
        },
        "outputId": "9251ccd9-3148-48d7-89c0-4537d27c83ae"
      },
      "source": [
        "import pandas as pd\n",
        "\n",
        "df = pd.read_fwf('/content/drive/MyDrive/T.E./exrc5/usuarios.txt', header=None, names=['Usuario', 'Espaço utilizado'])\n",
        "\n",
        "def ByteToMegaByte(num):\n",
        "    return round((num / (1024 * 1024)), 2)\n",
        "espaco_total =df['Espaço utilizado'].sum()\n",
        "\n",
        "df['% de uso'] = round((df['Espaço utilizado']* 100 /espaco_total),2)\n",
        "\n",
        "df['Espaço utilizado'] = ByteToMegaByte(df['Espaço utilizado'])\n",
        "print(df)\n",
        "\n",
        "txt = ('ACME Inc.            Uso do espaço em disco pelos usuário\\n')\n",
        "txt += ('----------------------------------------------------------\\n')\n",
        "txt += ('Nr. Usuário:      Espaço utilizado:       % de uso:\\n')\n",
        "\n",
        "x = 1\n",
        "for index, line in df.iterrows():\n",
        "    txt += f'{x} {line[\"Usuario\"]} \\t {line[\"Espaço utilizado\"]} MB \\t {line[\"% de uso\"]} %\\n'\n",
        "    x= x+1\n",
        "\n",
        "txt += '\\n'\n",
        "txt += f'Espaco total ocupado: {ByteToMegaByte(espaco_total)} MB\\n'\n",
        "txt += f'Espaco medio ocupado: {ByteToMegaByte(espaco_total/6)} MB\\n'\n",
        "\n",
        "with open('relatorio.txt', 'w') as arquivo:\n",
        "    arquivo.write(txt) "
      ],
      "execution_count": null,
      "outputs": [
        {
          "output_type": "stream",
          "name": "stdout",
          "text": [
            "     Usuario  Espaço utilizado  % de uso\n",
            "0  alexandre            434.99     16.85\n",
            "1   anderson           1187.99     46.02\n",
            "2    antonio            117.74      4.56\n",
            "3     carlos             87.03      3.37\n",
            "4      cesar              0.94      0.04\n",
            "5   rosemary            752.88     29.16\n"
          ]
        }
      ]
    },
    {
      "cell_type": "code",
      "source": [
        "import pandas as pd\n",
        "\n",
        "rm_df = pd.read_json(\"https://raw.githubusercontent.com/jeffersonchaves/rick-and-morty-dados/main/character.json\")\n",
        "display(rm_df)\n",
        "linha = rm_df.shape\n",
        "\n",
        "print(f'Esse arquivo possui {linha[0]} personagens.')"
      ],
      "metadata": {
        "id": "6EzqMXWc3b37"
      },
      "execution_count": null,
      "outputs": []
    },
    {
      "cell_type": "code",
      "source": [
        "condic_human = rm_df['species'] == 'Human'\n",
        "human_df = rm_df.loc[condic_human]\n",
        "numero_human, coluna = human_df.shape\n",
        "\n",
        "print(f'Esse arquivo possui {numero_human} Humanos.')"
      ],
      "metadata": {
        "colab": {
          "base_uri": "https://localhost:8080/"
        },
        "id": "IYUqcXuQ6sL5",
        "outputId": "1cb540f3-e1c8-49cc-9b60-0eea6ee0d8c7"
      },
      "execution_count": 4,
      "outputs": [
        {
          "output_type": "stream",
          "name": "stdout",
          "text": [
            "existem 48 Humanos nesse arquivo.\n"
          ]
        }
      ]
    },
    {
      "cell_type": "code",
      "source": [
        "condic_alien = rm_df['species'] == 'Alien'\n",
        "alien_df = rm_df.loc[condic_alien]\n",
        "numero_aliens, coluna = alien_df.shape\n",
        "\n",
        "print(f'Esse arquivo possui {numero_aliens} Aliens.')"
      ],
      "metadata": {
        "colab": {
          "base_uri": "https://localhost:8080/"
        },
        "id": "cTDnj-4E6FQs",
        "outputId": "8a137410-3a1e-4051-d0f6-889021e181d8"
      },
      "execution_count": 2,
      "outputs": [
        {
          "output_type": "stream",
          "name": "stdout",
          "text": [
            "existem 27 Aliens nesse arquivo.\n"
          ]
        }
      ]
    },
    {
      "cell_type": "code",
      "source": [
        "x = alien_df['type'].value_counts()\n",
        "qtd_tipos_alien = x.shape\n",
        "\n",
        "print(f'Esse arquivo possui {qtd_tipos_alien[0]} tipos de alienígenas diferentes')"
      ],
      "metadata": {
        "id": "MHDZ_XFg7ShI"
      },
      "execution_count": null,
      "outputs": []
    },
    {
      "cell_type": "code",
      "source": [
        "sexo_alien = alien_df[[\"gender\"]].groupby(\"gender\").size()\n",
        "qtd_alien_homen = sexo_alien[\"Male\"]\n",
        "qtd_alien_mulher = sexo_alien[\"Female\"]\n",
        "\n",
        "print(f\"Esse arquivo possui {qtd_alien_mulher} alienígenas MULHERES e {qtd_alien_homen} alienígenas HOMENS!!\")"
      ],
      "metadata": {
        "colab": {
          "base_uri": "https://localhost:8080/"
        },
        "id": "8-8r-5AE8NX7",
        "outputId": "77f60141-f891-4c33-deee-86401cf14d52"
      },
      "execution_count": 6,
      "outputs": [
        {
          "output_type": "stream",
          "name": "stdout",
          "text": [
            "Esse arquivo possui 4 alienígenas MULHERES e 15 alienígenas HOMENS!!\n"
          ]
        }
      ]
    },
    {
      "cell_type": "code",
      "source": [
        "episodios_df = pd.read_json(\"https://raw.githubusercontent.com/jeffersonchaves/rick-and-morty-dados/main/episode.json\")\n",
        "\n",
        "condic_crocubot = rm_df['name'] == 'Crocubot'\n",
        "\n",
        "crocubot = rm_df.loc[condic_crocubot]\n",
        "\n",
        "episodio = crocubot['episode']\n",
        "episodio = episodio[80][0]\n",
        "episodio = episodio.split('/')\n",
        "episodio = int(episodio[-1])\n",
        "\n",
        "episod = episodios_df.loc[episodios_df[\"id\"] == episodio]\n",
        "\n",
        "nome_episodio = episod[\"name\"].values[0]\n",
        "print(f\"O episódio é: '{nome_episodio}' \")"
      ],
      "metadata": {
        "colab": {
          "base_uri": "https://localhost:8080/"
        },
        "id": "vXkrSrwQ_GQH",
        "outputId": "5cac1136-75f7-43b5-849b-0c617da9a3b9"
      },
      "execution_count": 13,
      "outputs": [
        {
          "output_type": "stream",
          "name": "stdout",
          "text": [
            "O episódio é: 'Vindicators 3: The Return of Worldender' \n"
          ]
        }
      ]
    }
  ]
}